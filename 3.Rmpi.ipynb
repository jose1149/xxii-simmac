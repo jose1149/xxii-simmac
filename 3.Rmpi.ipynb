{
 "cells": [
  {
   "cell_type": "code",
   "execution_count": 25,
   "metadata": {},
   "outputs": [
    {
     "name": "stdout",
     "output_type": "stream",
     "text": [
      "The ipyslurm extension is already loaded. To reload it, use:\n",
      "  %reload_ext ipyslurm\n",
      "Logging in to instructor-011@login-1\n",
      "Password:········\n"
     ]
    },
    {
     "data": {
      "text/plain": [
       "Logged in to login-1"
      ]
     },
     "execution_count": 25,
     "metadata": {},
     "output_type": "execute_result"
    }
   ],
   "source": [
    "%load_ext ipyslurm\n",
    "%slogin login-1instructor-011"
   ]
  },
  {
   "cell_type": "code",
   "execution_count": 31,
   "metadata": {},
   "outputs": [
    {
     "name": "stdout",
     "output_type": "stream",
     "text": [
      "Submitted batch job 4583\n"
     ]
    }
   ],
   "source": [
    "%%sbatch\n",
    "#!/usr/bin/env bash\n",
    "#SBATCH --job-name=Rmpi\n",
    "#SBATCH --nodes=3\n",
    "#SBATCH --time=00:02:00     \n",
    "#SBATCH --ntasks-per-node=6\n",
    "#SBATCH --cpus-per-task=1\n",
    "#SBATCH --output=rmpi-%j.log\n",
    "#SBATCH --partition=nu-wide\n",
    "\n",
    "cd $SLURM_SUBMIT_DIR\n",
    "\n",
    "module load mpich/3.2.1-gcc-7.2.0\n",
    "module load gcc/7.2.0\n",
    "module load R/3.5.1\n",
    "module list\n",
    "TOOLS=/home/instructor-011/tools/miniconda3/envs/SIMMAC/bin\n",
    "\n",
    "WORKERS=$(($SLURM_NTASKS-1))\n",
    "\n",
    "HOSTFILE=$(pwd)/.host.$SLURM_JOBID\n",
    "#echo  $SLURM_NODEFILE > ${HOSTFILE}\n",
    "srun hostname -s &> $HOSTFILE\n",
    "\n",
    "# Create test R script\n",
    "cat > test.R << EOF\n",
    "# Load library\n",
    "library(Rmpi)\n",
    "\n",
    "# In case R exits unexpectedly, have it automatically clean up\n",
    "# resources taken up by Rmpi (slaves, memory, etc...)\n",
    ".Last <- function(){\n",
    "   if (is.loaded(\"mpi_initialize\")){\n",
    "     if (mpi.comm.size(1) > 0){\n",
    "       print(\"Please use mpi.close.Rslaves() to close workers.\")\n",
    "       mpi.close.Rslaves()\n",
    "     }\n",
    "     print(\"Please use mpi.quit() to quit R\")\n",
    "     .Call(\"mpi_finalize\")\n",
    "   }\n",
    "}\n",
    "\n",
    "# Spawn workers\n",
    "mpi.spawn.Rslaves(nslaves=$WORKERS)\n",
    "\n",
    "# Execute a command on each worker\n",
    "mpi.remote.exec(paste(\"I am\",mpi.comm.rank(),\"of\",mpi.comm.size()), ret=FALSE)\n",
    "#mpi.remote.exec(sum(1:mpi.comm.rank()))\n",
    "mpi.close.Rslaves()\n",
    "mpi.quit()\n",
    "EOF\n",
    "\n",
    "echo \"Using $SLURM_JOB_NUM_NODES nodes\"\n",
    "mpiexec -n $SLURM_JOB_NUM_NODES Rscript test.R\n",
    "#mpirun -np $SLURM_NTASKS $TOOLS/Rscript test.R"
   ]
  },
  {
   "cell_type": "code",
   "execution_count": 33,
   "metadata": {},
   "outputs": [
    {
     "name": "stdout",
     "output_type": "stream",
     "text": [
      "             JOBID PARTITION     NAME     USER ST       TIME  NODES NODELIST(REASON)\n"
     ]
    }
   ],
   "source": [
    "%%sbash\n",
    "squeue -u instructor-011"
   ]
  },
  {
   "cell_type": "markdown",
   "metadata": {},
   "source": []
  }
 ],
 "metadata": {
  "kernelspec": {
   "display_name": "Python 3",
   "language": "python",
   "name": "python3"
  },
  "language_info": {
   "codemirror_mode": {
    "name": "ipython",
    "version": 3
   },
   "file_extension": ".py",
   "mimetype": "text/x-python",
   "name": "python",
   "nbconvert_exporter": "python",
   "pygments_lexer": "ipython3",
   "version": "3.6.0"
  }
 },
 "nbformat": 4,
 "nbformat_minor": 4
}

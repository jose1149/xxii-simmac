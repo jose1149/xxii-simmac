{
 "cells": [
  {
   "cell_type": "markdown",
   "metadata": {
    "slideshow": {
     "slide_type": "slide"
    }
   },
   "source": [
    "![img](https://raw.githubusercontent.com/villegar/xxii-simmac/master/images/logoEN.png)\n",
    "# Parallel Computing using Rmpi\n",
    "### by Roberto Villegas-Diaz & Anne Fennell, PhD\n",
    "### South Dakota State University\n",
    "\n",
    "<img style=\"float: right, margin-top\" src=\"https://raw.githubusercontent.com/villegar/xxii-simmac/master/images/SDLogo3c.jpg\" alt=\"SDSU\" width=\"200\"/>"
   ]
  },
  {
   "cell_type": "markdown",
   "metadata": {
    "slideshow": {
     "slide_type": "slide"
    }
   },
   "source": [
    "## Outline\n",
    "- Overview\n",
    "- Introduction to Parallel Computing\n",
    "- Hands-On\n",
    "- Remarks\n",
    "- References\n",
    "- Acknowledgements"
   ]
  },
  {
   "cell_type": "markdown",
   "metadata": {
    "slideshow": {
     "slide_type": "slide"
    }
   },
   "source": [
    "## Overview\n",
    "\n",
    "![meme](https://i.redd.it/9tu18n684z331.jpg)\n",
    "\n",
    "Source: https://www.reddit.com/r/ProgrammerHumor/comments/bzv8q4/parallelism_be_like/"
   ]
  },
  {
   "cell_type": "markdown",
   "metadata": {
    "slideshow": {
     "slide_type": "subslide"
    }
   },
   "source": [
    "### Serial Computing\n",
    "\n",
    "![serial-computing](https://raw.githubusercontent.com/villegar/xxii-simmac/master/images/serialProblem.gif)\n"
   ]
  },
  {
   "cell_type": "markdown",
   "metadata": {
    "slideshow": {
     "slide_type": "notes"
    }
   },
   "source": [
    "- A problem is broken into a discrete series of instructions\n",
    "- Instructions are executed sequentially one after another\n",
    "- Executed on a single processor\n",
    "- Only one instruction may execute at any moment in time"
   ]
  },
  {
   "cell_type": "markdown",
   "metadata": {
    "slideshow": {
     "slide_type": "subslide"
    }
   },
   "source": [
    "### Parallel Computing\n",
    "![parallel-computing](https://raw.githubusercontent.com/villegar/xxii-simmac/master/images/parallelProblem.gif)"
   ]
  },
  {
   "cell_type": "markdown",
   "metadata": {
    "slideshow": {
     "slide_type": "notes"
    }
   },
   "source": [
    "- A problem is broken into discrete parts that can be solved concurrently\n",
    "- Each part is further broken down to a series of instructions\n",
    "- Instructions from each part execute simultaneously on different processors\n",
    "- An overall control/coordination mechanism is employed"
   ]
  },
  {
   "cell_type": "markdown",
   "metadata": {
    "slideshow": {
     "slide_type": "subslide"
    }
   },
   "source": [
    "### Available Resources\n",
    "\n",
    "- CeNAT (Centro Nacional de Alta Tecnología), CR: http://www.cenat.ac.cr/en/\n",
    "- PRACE (Partnership for Advanced Computing in Europe), Europe: http://www.prace-ri.eu\n",
    "- RIKEN (Kokuritsu Kenkyū Kaihatsu Hōjin Rikagaku Kenkyūsho), Japan: https://www.riken.jp/en/ \n",
    "- XSEDE (Extreme Science and Engineering Discovery Environment), USA: https://www.xsede.org"
   ]
  },
  {
   "cell_type": "markdown",
   "metadata": {
    "slideshow": {
     "slide_type": "subslide"
    }
   },
   "source": [
    "### Top 500 Supercomputers*\n",
    "![top500](https://raw.githubusercontent.com/villegar/xxii-simmac/master/images/top500-top3.jpg)\n",
    "\n",
    "Source: https://www.top500.org\n",
    "\n",
    "\\* November 2019"
   ]
  },
  {
   "cell_type": "markdown",
   "metadata": {
    "slideshow": {
     "slide_type": "notes"
    }
   },
   "source": [
    "- Rmax - Maximal LINPACK performance achieved\n",
    "- Rpeak - Theoretical peak performance\n",
    "- LINPACK is a collection of Fortran subroutines that analyze and solve linear equations and linear least-squares problems. The package solves linear systems whose matrices are general, banded, symmetric indefinite, symmetric positive definite, triangular, and tridiagonal square. In addition, the package computes the QR and singular value decompositions of rectangular matrices and applies them to least-squares problems. LINPACK uses column-oriented algorithms to increase efficiency by preserving locality of reference. \n",
    "\n",
    "Sources: https://www.top500.org/project/top500_description/ and https://www.netlib.org/linpack/"
   ]
  },
  {
   "cell_type": "markdown",
   "metadata": {
    "slideshow": {
     "slide_type": "subslide"
    }
   },
   "source": [
    "### HPC system \n",
    "![hpc-system](https://raw.githubusercontent.com/villegar/xxii-simmac/master/images/nodesNetwork.gif)"
   ]
  },
  {
   "cell_type": "markdown",
   "metadata": {
    "slideshow": {
     "slide_type": "notes"
    }
   },
   "source": [
    "There is a wide range of configurations used on HPC systems, above represents a simplified version for illustration purposes."
   ]
  },
  {
   "cell_type": "markdown",
   "metadata": {
    "slideshow": {
     "slide_type": "subslide"
    }
   },
   "source": [
    "### Why Use Parallel Computing?\n"
   ]
  },
  {
   "cell_type": "markdown",
   "metadata": {
    "slideshow": {
     "slide_type": "notes"
    }
   },
   "source": [
    "#### The Real World is Massively Parallel:\n",
    "- In the natural world, many complex, interrelated events are happening at the same time, yet within a temporal sequence.\n",
    "- Compared to serial computing, parallel computing is much better suited for modeling, simulating and understanding complex, real world phenomena."
   ]
  },
  {
   "cell_type": "markdown",
   "metadata": {
    "slideshow": {
     "slide_type": "fragment"
    }
   },
   "source": [
    "![real-world-applications-1](https://raw.githubusercontent.com/villegar/xxii-simmac/master/images/realWorldCollage1.jpg)"
   ]
  },
  {
   "cell_type": "markdown",
   "metadata": {
    "slideshow": {
     "slide_type": "fragment"
    }
   },
   "source": [
    "![real-world-applications-2](https://raw.githubusercontent.com/villegar/xxii-simmac/master/images/realWorldCollage2.jpg)"
   ]
  },
  {
   "cell_type": "markdown",
   "metadata": {
    "slideshow": {
     "slide_type": "skip"
    }
   },
   "source": [
    "![real-world-applications-3](https://raw.githubusercontent.com/villegar/xxii-simmac/master/images/realWorldCollage3.jpg)"
   ]
  },
  {
   "cell_type": "markdown",
   "metadata": {
    "slideshow": {
     "slide_type": "subslide"
    }
   },
   "source": [
    "### Why Use Parallel Computing? (cont.)"
   ]
  },
  {
   "cell_type": "markdown",
   "metadata": {
    "slideshow": {
     "slide_type": "subslide"
    }
   },
   "source": [
    "- Save time and/or money"
   ]
  },
  {
   "cell_type": "markdown",
   "metadata": {
    "slideshow": {
     "slide_type": "notes"
    }
   },
   "source": [
    "In theory, throwing more resources at a task will shorten its time to completion, with potential cost savings.\n",
    "Parallel computers can be built from cheap, commodity components."
   ]
  },
  {
   "cell_type": "markdown",
   "metadata": {
    "slideshow": {
     "slide_type": "fragment"
    }
   },
   "source": [
    "- Solve larger and more complex problems"
   ]
  },
  {
   "cell_type": "markdown",
   "metadata": {
    "slideshow": {
     "slide_type": "notes"
    }
   },
   "source": [
    "Many problems are so large and/or complex that it is impractical or impossible to solve them on a single computer, especially given limited computer memory.\n",
    "Example: \"Grand Challenge Problems\" (en.wikipedia.org/wiki/Grand_Challenge) requiring PetaFLOPS and PetaBytes of computing resources.\n",
    "Example: Web search engines/databases processing millions of transactions every second"
   ]
  },
  {
   "cell_type": "markdown",
   "metadata": {
    "slideshow": {
     "slide_type": "fragment"
    }
   },
   "source": [
    "- Provide concurrency"
   ]
  },
  {
   "cell_type": "markdown",
   "metadata": {
    "slideshow": {
     "slide_type": "notes"
    }
   },
   "source": [
    "A single compute resource can only do one thing at a time. Multiple compute resources can do many things simultaneously.\n",
    "Example: Collaborative Networks provide a global venue where people from around the world can meet and conduct work \"virtually\"."
   ]
  },
  {
   "cell_type": "markdown",
   "metadata": {
    "slideshow": {
     "slide_type": "fragment"
    }
   },
   "source": [
    "- Take advantage of non-local resources"
   ]
  },
  {
   "cell_type": "markdown",
   "metadata": {
    "slideshow": {
     "slide_type": "notes"
    }
   },
   "source": [
    "Using compute resources on a wide area network, or even the Internet when local compute resources are scarce or insufficient. Two examples below, each of which has over 1.7 million contributors globally (May 2018):\n",
    "Example: SETI@home (setiathome.berkeley.edu)\n",
    "Example: Folding@home (folding.stanford.edu)"
   ]
  },
  {
   "cell_type": "markdown",
   "metadata": {
    "slideshow": {
     "slide_type": "fragment"
    }
   },
   "source": [
    "- Make better use of underlying parallel hardware"
   ]
  },
  {
   "cell_type": "markdown",
   "metadata": {
    "slideshow": {
     "slide_type": "notes"
    }
   },
   "source": [
    "Modern computers, even laptops, are parallel in architecture with multiple processors/cores.\n",
    "Parallel software is specifically intended for parallel hardware with multiple cores, threads, etc.\n",
    "In most cases, serial programs run on modern computers \"waste\" potential computing power."
   ]
  },
  {
   "cell_type": "markdown",
   "metadata": {
    "slideshow": {
     "slide_type": "subslide"
    }
   },
   "source": [
    "### The Future: Exascale Computing\n",
    "\n",
    "\n",
    "Exaflop = $10^{18}$ calculations per second"
   ]
  },
  {
   "cell_type": "markdown",
   "metadata": {
    "slideshow": {
     "slide_type": "slide"
    }
   },
   "source": [
    "## Introduction to Parallel Computing"
   ]
  },
  {
   "cell_type": "markdown",
   "metadata": {
    "slideshow": {
     "slide_type": "subslide"
    }
   },
   "source": [
    "### Game rules"
   ]
  },
  {
   "cell_type": "markdown",
   "metadata": {
    "slideshow": {
     "slide_type": "fragment"
    }
   },
   "source": [
    "#### Speedup\n",
    "\n",
    "$$S_p = \\frac{T_s}{T_p}$$\n"
   ]
  },
  {
   "cell_type": "markdown",
   "metadata": {
    "slideshow": {
     "slide_type": "fragment"
    }
   },
   "source": [
    "<img src=\"https://raw.githubusercontent.com/villegar/xxii-simmac/master/images/speedup-curve.png\" width=\"500\">"
   ]
  },
  {
   "cell_type": "markdown",
   "metadata": {
    "slideshow": {
     "slide_type": "notes"
    }
   },
   "source": [
    "where:\n",
    " - $p$ is the number of processors\n",
    " - $T_s$ is the execution time of the sequential algorithm\n",
    " - $T_p$ is the execution time of the parallel algorithm \n",
    " - $S_p = p$ (linear speedup, ideal)\n"
   ]
  },
  {
   "cell_type": "markdown",
   "metadata": {
    "slideshow": {
     "slide_type": "subslide"
    }
   },
   "source": [
    "### Game rules (cont.)"
   ]
  },
  {
   "cell_type": "markdown",
   "metadata": {},
   "source": [
    "#### Parallel efficiency \n",
    "\n",
    "$$E_p = \\frac{S_p}{p} = \\frac{T_s}{p T_p}$$"
   ]
  },
  {
   "cell_type": "code",
   "execution_count": 1,
   "metadata": {
    "slideshow": {
     "slide_type": "slide"
    }
   },
   "outputs": [],
   "source": [
    "library(Rmpi)"
   ]
  },
  {
   "cell_type": "code",
   "execution_count": 13,
   "metadata": {
    "slideshow": {
     "slide_type": "subslide"
    }
   },
   "outputs": [
    {
     "data": {
      "text/html": [
       "<ol class=list-inline>\n",
       "\t<li><span style=white-space:pre-wrap>'Architecture:          x86_64'</span></li>\n",
       "\t<li><span style=white-space:pre-wrap>'CPU op-mode(s):        32-bit, 64-bit'</span></li>\n",
       "\t<li><span style=white-space:pre-wrap>'Byte Order:            Little Endian'</span></li>\n",
       "\t<li><span style=white-space:pre-wrap>'CPU(s):                40'</span></li>\n",
       "\t<li><span style=white-space:pre-wrap>'On-line CPU(s) list:   0-39'</span></li>\n",
       "\t<li><span style=white-space:pre-wrap>'Thread(s) per core:    1'</span></li>\n",
       "\t<li><span style=white-space:pre-wrap>'Core(s) per socket:    20'</span></li>\n",
       "\t<li><span style=white-space:pre-wrap>'Socket(s):             2'</span></li>\n",
       "\t<li><span style=white-space:pre-wrap>'NUMA node(s):          2'</span></li>\n",
       "\t<li><span style=white-space:pre-wrap>'Vendor ID:             GenuineIntel'</span></li>\n",
       "\t<li><span style=white-space:pre-wrap>'CPU family:            6'</span></li>\n",
       "\t<li><span style=white-space:pre-wrap>'Model:                 85'</span></li>\n",
       "\t<li><span style=white-space:pre-wrap>'Model name:            Intel(R) Xeon(R) Gold 6148 CPU @ 2.40GHz'</span></li>\n",
       "\t<li><span style=white-space:pre-wrap>'Stepping:              4'</span></li>\n",
       "\t<li><span style=white-space:pre-wrap>'CPU MHz:               2400.000'</span></li>\n",
       "\t<li><span style=white-space:pre-wrap>'BogoMIPS:              4800.00'</span></li>\n",
       "\t<li><span style=white-space:pre-wrap>'Virtualization:        VT-x'</span></li>\n",
       "\t<li><span style=white-space:pre-wrap>'L1d cache:             32K'</span></li>\n",
       "\t<li><span style=white-space:pre-wrap>'L1i cache:             32K'</span></li>\n",
       "\t<li><span style=white-space:pre-wrap>'L2 cache:              1024K'</span></li>\n",
       "\t<li><span style=white-space:pre-wrap>'L3 cache:              28160K'</span></li>\n",
       "\t<li><span style=white-space:pre-wrap>'NUMA node0 CPU(s):     0-19'</span></li>\n",
       "\t<li><span style=white-space:pre-wrap>'NUMA node1 CPU(s):     20-39'</span></li>\n",
       "\t<li><span style=white-space:pre-wrap>'Flags:                 fpu vme de pse tsc msr pae mce cx8 apic sep mtrr pge mca cmov pat pse36 clflush dts acpi mmx fxsr sse sse2 ss ht tm pbe syscall nx pdpe1gb rdtscp lm constant_tsc art arch_perfmon pebs bts rep_good nopl xtopology nonstop_tsc aperfmperf eagerfpu pni pclmulqdq dtes64 monitor ds_cpl vmx smx est tm2 ssse3 sdbg fma cx16 xtpr pdcm pcid dca sse4_1 sse4_2 x2apic movbe popcnt tsc_deadline_timer aes xsave avx f16c rdrand lahf_lm abm 3dnowprefetch epb cat_l3 cdp_l3 intel_ppin intel_pt mba tpr_shadow vnmi flexpriority ept vpid fsgsbase tsc_adjust bmi1 hle avx2 smep bmi2 erms invpcid rtm cqm mpx rdt_a avx512f avx512dq rdseed adx smap clflushopt clwb avx512cd avx512bw avx512vl xsaveopt xsavec xgetbv1 cqm_llc cqm_occup_llc cqm_mbm_total cqm_mbm_local ibpb ibrs stibp dtherm ida arat pln pts pku ospke spec_ctrl intel_stibp'</span></li>\n",
       "</ol>\n"
      ],
      "text/latex": [
       "\\begin{enumerate*}\n",
       "\\item 'Architecture:          x86\\_64'\n",
       "\\item 'CPU op-mode(s):        32-bit, 64-bit'\n",
       "\\item 'Byte Order:            Little Endian'\n",
       "\\item 'CPU(s):                40'\n",
       "\\item 'On-line CPU(s) list:   0-39'\n",
       "\\item 'Thread(s) per core:    1'\n",
       "\\item 'Core(s) per socket:    20'\n",
       "\\item 'Socket(s):             2'\n",
       "\\item 'NUMA node(s):          2'\n",
       "\\item 'Vendor ID:             GenuineIntel'\n",
       "\\item 'CPU family:            6'\n",
       "\\item 'Model:                 85'\n",
       "\\item 'Model name:            Intel(R) Xeon(R) Gold 6148 CPU @ 2.40GHz'\n",
       "\\item 'Stepping:              4'\n",
       "\\item 'CPU MHz:               2400.000'\n",
       "\\item 'BogoMIPS:              4800.00'\n",
       "\\item 'Virtualization:        VT-x'\n",
       "\\item 'L1d cache:             32K'\n",
       "\\item 'L1i cache:             32K'\n",
       "\\item 'L2 cache:              1024K'\n",
       "\\item 'L3 cache:              28160K'\n",
       "\\item 'NUMA node0 CPU(s):     0-19'\n",
       "\\item 'NUMA node1 CPU(s):     20-39'\n",
       "\\item 'Flags:                 fpu vme de pse tsc msr pae mce cx8 apic sep mtrr pge mca cmov pat pse36 clflush dts acpi mmx fxsr sse sse2 ss ht tm pbe syscall nx pdpe1gb rdtscp lm constant\\_tsc art arch\\_perfmon pebs bts rep\\_good nopl xtopology nonstop\\_tsc aperfmperf eagerfpu pni pclmulqdq dtes64 monitor ds\\_cpl vmx smx est tm2 ssse3 sdbg fma cx16 xtpr pdcm pcid dca sse4\\_1 sse4\\_2 x2apic movbe popcnt tsc\\_deadline\\_timer aes xsave avx f16c rdrand lahf\\_lm abm 3dnowprefetch epb cat\\_l3 cdp\\_l3 intel\\_ppin intel\\_pt mba tpr\\_shadow vnmi flexpriority ept vpid fsgsbase tsc\\_adjust bmi1 hle avx2 smep bmi2 erms invpcid rtm cqm mpx rdt\\_a avx512f avx512dq rdseed adx smap clflushopt clwb avx512cd avx512bw avx512vl xsaveopt xsavec xgetbv1 cqm\\_llc cqm\\_occup\\_llc cqm\\_mbm\\_total cqm\\_mbm\\_local ibpb ibrs stibp dtherm ida arat pln pts pku ospke spec\\_ctrl intel\\_stibp'\n",
       "\\end{enumerate*}\n"
      ],
      "text/markdown": [
       "1. <span style=white-space:pre-wrap>'Architecture:          x86_64'</span>\n",
       "2. <span style=white-space:pre-wrap>'CPU op-mode(s):        32-bit, 64-bit'</span>\n",
       "3. <span style=white-space:pre-wrap>'Byte Order:            Little Endian'</span>\n",
       "4. <span style=white-space:pre-wrap>'CPU(s):                40'</span>\n",
       "5. <span style=white-space:pre-wrap>'On-line CPU(s) list:   0-39'</span>\n",
       "6. <span style=white-space:pre-wrap>'Thread(s) per core:    1'</span>\n",
       "7. <span style=white-space:pre-wrap>'Core(s) per socket:    20'</span>\n",
       "8. <span style=white-space:pre-wrap>'Socket(s):             2'</span>\n",
       "9. <span style=white-space:pre-wrap>'NUMA node(s):          2'</span>\n",
       "10. <span style=white-space:pre-wrap>'Vendor ID:             GenuineIntel'</span>\n",
       "11. <span style=white-space:pre-wrap>'CPU family:            6'</span>\n",
       "12. <span style=white-space:pre-wrap>'Model:                 85'</span>\n",
       "13. <span style=white-space:pre-wrap>'Model name:            Intel(R) Xeon(R) Gold 6148 CPU @ 2.40GHz'</span>\n",
       "14. <span style=white-space:pre-wrap>'Stepping:              4'</span>\n",
       "15. <span style=white-space:pre-wrap>'CPU MHz:               2400.000'</span>\n",
       "16. <span style=white-space:pre-wrap>'BogoMIPS:              4800.00'</span>\n",
       "17. <span style=white-space:pre-wrap>'Virtualization:        VT-x'</span>\n",
       "18. <span style=white-space:pre-wrap>'L1d cache:             32K'</span>\n",
       "19. <span style=white-space:pre-wrap>'L1i cache:             32K'</span>\n",
       "20. <span style=white-space:pre-wrap>'L2 cache:              1024K'</span>\n",
       "21. <span style=white-space:pre-wrap>'L3 cache:              28160K'</span>\n",
       "22. <span style=white-space:pre-wrap>'NUMA node0 CPU(s):     0-19'</span>\n",
       "23. <span style=white-space:pre-wrap>'NUMA node1 CPU(s):     20-39'</span>\n",
       "24. <span style=white-space:pre-wrap>'Flags:                 fpu vme de pse tsc msr pae mce cx8 apic sep mtrr pge mca cmov pat pse36 clflush dts acpi mmx fxsr sse sse2 ss ht tm pbe syscall nx pdpe1gb rdtscp lm constant_tsc art arch_perfmon pebs bts rep_good nopl xtopology nonstop_tsc aperfmperf eagerfpu pni pclmulqdq dtes64 monitor ds_cpl vmx smx est tm2 ssse3 sdbg fma cx16 xtpr pdcm pcid dca sse4_1 sse4_2 x2apic movbe popcnt tsc_deadline_timer aes xsave avx f16c rdrand lahf_lm abm 3dnowprefetch epb cat_l3 cdp_l3 intel_ppin intel_pt mba tpr_shadow vnmi flexpriority ept vpid fsgsbase tsc_adjust bmi1 hle avx2 smep bmi2 erms invpcid rtm cqm mpx rdt_a avx512f avx512dq rdseed adx smap clflushopt clwb avx512cd avx512bw avx512vl xsaveopt xsavec xgetbv1 cqm_llc cqm_occup_llc cqm_mbm_total cqm_mbm_local ibpb ibrs stibp dtherm ida arat pln pts pku ospke spec_ctrl intel_stibp'</span>\n",
       "\n",
       "\n"
      ],
      "text/plain": [
       " [1] \"Architecture:          x86_64\"                                                                                                                                                                                                                                                                                                                                                                                                                                                                                                                                                                                                                                                                                                                                                                                                                                          \n",
       " [2] \"CPU op-mode(s):        32-bit, 64-bit\"                                                                                                                                                                                                                                                                                                                                                                                                                                                                                                                                                                                                                                                                                                                                                                                                                                  \n",
       " [3] \"Byte Order:            Little Endian\"                                                                                                                                                                                                                                                                                                                                                                                                                                                                                                                                                                                                                                                                                                                                                                                                                                   \n",
       " [4] \"CPU(s):                40\"                                                                                                                                                                                                                                                                                                                                                                                                                                                                                                                                                                                                                                                                                                                                                                                                                                              \n",
       " [5] \"On-line CPU(s) list:   0-39\"                                                                                                                                                                                                                                                                                                                                                                                                                                                                                                                                                                                                                                                                                                                                                                                                                                            \n",
       " [6] \"Thread(s) per core:    1\"                                                                                                                                                                                                                                                                                                                                                                                                                                                                                                                                                                                                                                                                                                                                                                                                                                               \n",
       " [7] \"Core(s) per socket:    20\"                                                                                                                                                                                                                                                                                                                                                                                                                                                                                                                                                                                                                                                                                                                                                                                                                                              \n",
       " [8] \"Socket(s):             2\"                                                                                                                                                                                                                                                                                                                                                                                                                                                                                                                                                                                                                                                                                                                                                                                                                                               \n",
       " [9] \"NUMA node(s):          2\"                                                                                                                                                                                                                                                                                                                                                                                                                                                                                                                                                                                                                                                                                                                                                                                                                                               \n",
       "[10] \"Vendor ID:             GenuineIntel\"                                                                                                                                                                                                                                                                                                                                                                                                                                                                                                                                                                                                                                                                                                                                                                                                                                    \n",
       "[11] \"CPU family:            6\"                                                                                                                                                                                                                                                                                                                                                                                                                                                                                                                                                                                                                                                                                                                                                                                                                                               \n",
       "[12] \"Model:                 85\"                                                                                                                                                                                                                                                                                                                                                                                                                                                                                                                                                                                                                                                                                                                                                                                                                                              \n",
       "[13] \"Model name:            Intel(R) Xeon(R) Gold 6148 CPU @ 2.40GHz\"                                                                                                                                                                                                                                                                                                                                                                                                                                                                                                                                                                                                                                                                                                                                                                                                        \n",
       "[14] \"Stepping:              4\"                                                                                                                                                                                                                                                                                                                                                                                                                                                                                                                                                                                                                                                                                                                                                                                                                                               \n",
       "[15] \"CPU MHz:               2400.000\"                                                                                                                                                                                                                                                                                                                                                                                                                                                                                                                                                                                                                                                                                                                                                                                                                                        \n",
       "[16] \"BogoMIPS:              4800.00\"                                                                                                                                                                                                                                                                                                                                                                                                                                                                                                                                                                                                                                                                                                                                                                                                                                         \n",
       "[17] \"Virtualization:        VT-x\"                                                                                                                                                                                                                                                                                                                                                                                                                                                                                                                                                                                                                                                                                                                                                                                                                                            \n",
       "[18] \"L1d cache:             32K\"                                                                                                                                                                                                                                                                                                                                                                                                                                                                                                                                                                                                                                                                                                                                                                                                                                             \n",
       "[19] \"L1i cache:             32K\"                                                                                                                                                                                                                                                                                                                                                                                                                                                                                                                                                                                                                                                                                                                                                                                                                                             \n",
       "[20] \"L2 cache:              1024K\"                                                                                                                                                                                                                                                                                                                                                                                                                                                                                                                                                                                                                                                                                                                                                                                                                                           \n",
       "[21] \"L3 cache:              28160K\"                                                                                                                                                                                                                                                                                                                                                                                                                                                                                                                                                                                                                                                                                                                                                                                                                                          \n",
       "[22] \"NUMA node0 CPU(s):     0-19\"                                                                                                                                                                                                                                                                                                                                                                                                                                                                                                                                                                                                                                                                                                                                                                                                                                            \n",
       "[23] \"NUMA node1 CPU(s):     20-39\"                                                                                                                                                                                                                                                                                                                                                                                                                                                                                                                                                                                                                                                                                                                                                                                                                                           \n",
       "[24] \"Flags:                 fpu vme de pse tsc msr pae mce cx8 apic sep mtrr pge mca cmov pat pse36 clflush dts acpi mmx fxsr sse sse2 ss ht tm pbe syscall nx pdpe1gb rdtscp lm constant_tsc art arch_perfmon pebs bts rep_good nopl xtopology nonstop_tsc aperfmperf eagerfpu pni pclmulqdq dtes64 monitor ds_cpl vmx smx est tm2 ssse3 sdbg fma cx16 xtpr pdcm pcid dca sse4_1 sse4_2 x2apic movbe popcnt tsc_deadline_timer aes xsave avx f16c rdrand lahf_lm abm 3dnowprefetch epb cat_l3 cdp_l3 intel_ppin intel_pt mba tpr_shadow vnmi flexpriority ept vpid fsgsbase tsc_adjust bmi1 hle avx2 smep bmi2 erms invpcid rtm cqm mpx rdt_a avx512f avx512dq rdseed adx smap clflushopt clwb avx512cd avx512bw avx512vl xsaveopt xsavec xgetbv1 cqm_llc cqm_occup_llc cqm_mbm_total cqm_mbm_local ibpb ibrs stibp dtherm ida arat pln pts pku ospke spec_ctrl intel_stibp\""
      ]
     },
     "metadata": {},
     "output_type": "display_data"
    }
   ],
   "source": [
    "system(\"lscpu\", intern = TRUE)"
   ]
  },
  {
   "cell_type": "markdown",
   "metadata": {
    "slideshow": {
     "slide_type": "slide"
    }
   },
   "source": [
    "## Testing installation"
   ]
  },
  {
   "cell_type": "markdown",
   "metadata": {
    "slideshow": {
     "slide_type": "subslide"
    }
   },
   "source": [
    "### `foreach` library"
   ]
  },
  {
   "cell_type": "code",
   "execution_count": 56,
   "metadata": {
    "slideshow": {
     "slide_type": "fragment"
    }
   },
   "outputs": [
    {
     "data": {
      "text/html": [
       "<ol>\n",
       "\t<li>1</li>\n",
       "\t<li>1.4142135623731</li>\n",
       "\t<li>1.73205080756888</li>\n",
       "</ol>\n"
      ],
      "text/latex": [
       "\\begin{enumerate}\n",
       "\\item 1\n",
       "\\item 1.4142135623731\n",
       "\\item 1.73205080756888\n",
       "\\end{enumerate}\n"
      ],
      "text/markdown": [
       "1. 1\n",
       "2. 1.4142135623731\n",
       "3. 1.73205080756888\n",
       "\n",
       "\n"
      ],
      "text/plain": [
       "[[1]]\n",
       "[1] 1\n",
       "\n",
       "[[2]]\n",
       "[1] 1.414214\n",
       "\n",
       "[[3]]\n",
       "[1] 1.732051\n"
      ]
     },
     "metadata": {},
     "output_type": "display_data"
    }
   ],
   "source": [
    "library(foreach)\n",
    "foreach (i = 1:3) %do% {\n",
    "    sqrt(i)\n",
    "}"
   ]
  },
  {
   "cell_type": "markdown",
   "metadata": {
    "slideshow": {
     "slide_type": "subslide"
    }
   },
   "source": [
    "### `foreach` + `doParallel`"
   ]
  },
  {
   "cell_type": "code",
   "execution_count": 59,
   "metadata": {
    "slideshow": {
     "slide_type": "fragment"
    }
   },
   "outputs": [
    {
     "data": {
      "text/html": [
       "<ol>\n",
       "\t<li>1</li>\n",
       "\t<li>1.4142135623731</li>\n",
       "\t<li>1.73205080756888</li>\n",
       "</ol>\n"
      ],
      "text/latex": [
       "\\begin{enumerate}\n",
       "\\item 1\n",
       "\\item 1.4142135623731\n",
       "\\item 1.73205080756888\n",
       "\\end{enumerate}\n"
      ],
      "text/markdown": [
       "1. 1\n",
       "2. 1.4142135623731\n",
       "3. 1.73205080756888\n",
       "\n",
       "\n"
      ],
      "text/plain": [
       "[[1]]\n",
       "[1] 1\n",
       "\n",
       "[[2]]\n",
       "[1] 1.414214\n",
       "\n",
       "[[3]]\n",
       "[1] 1.732051\n"
      ]
     },
     "metadata": {},
     "output_type": "display_data"
    }
   ],
   "source": [
    "library(foreach)\n",
    "library(doParallel)\n",
    "numCores <- detectCores() - 1\n",
    "registerDoParallel(numCores)  # use multicore, set to the number of our cores\n",
    "foreach (i=1:3) %dopar% {\n",
    "  sqrt(i)\n",
    "}"
   ]
  },
  {
   "cell_type": "markdown",
   "metadata": {},
   "source": [
    "## `rmpi` library"
   ]
  },
  {
   "cell_type": "code",
   "execution_count": 4,
   "metadata": {},
   "outputs": [
    {
     "data": {
      "text/html": [
       "0"
      ],
      "text/latex": [
       "0"
      ],
      "text/markdown": [
       "0"
      ],
      "text/plain": [
       "[1] 0"
      ]
     },
     "metadata": {},
     "output_type": "display_data"
    }
   ],
   "source": [
    "# Load the R MPI package if it is not already loaded.\n",
    "if (!is.loaded(\"mpi_initialize\")) {\n",
    "    library(\"Rmpi\")\n",
    "}\n",
    "ns <- mpi.universe.size() - 1\n",
    "ns"
   ]
  },
  {
   "cell_type": "markdown",
   "metadata": {
    "slideshow": {
     "slide_type": "slide"
    }
   },
   "source": [
    "## Getting real\n",
    "\n",
    "$$\\displaystyle \\left(\\sqrt{-\\text{s#@t}}\\right)^2$$"
   ]
  },
  {
   "cell_type": "markdown",
   "metadata": {
    "slideshow": {
     "slide_type": "slide"
    }
   },
   "source": [
    "## Using `foreach` and `doParallel`"
   ]
  },
  {
   "cell_type": "code",
   "execution_count": 48,
   "metadata": {
    "slideshow": {
     "slide_type": "subslide"
    }
   },
   "outputs": [
    {
     "name": "stdout",
     "output_type": "stream",
     "text": [
      "serial: 240.949 sec elapsed\n"
     ]
    }
   ],
   "source": [
    "N <- 400000 # Sample size\n",
    "tic(\"serial\")\n",
    "results_serial <- c()\n",
    "for (i in 1:N) {\n",
    "    results <- c(results,sqrt(i))\n",
    "}\n",
    "toc()"
   ]
  },
  {
   "cell_type": "code",
   "execution_count": null,
   "metadata": {
    "slideshow": {
     "slide_type": "fragment"
    }
   },
   "outputs": [],
   "source": []
  },
  {
   "cell_type": "code",
   "execution_count": 49,
   "metadata": {
    "slideshow": {
     "slide_type": "subslide"
    }
   },
   "outputs": [
    {
     "name": "stdout",
     "output_type": "stream",
     "text": [
      "foreach only: 100.895 sec elapsed\n"
     ]
    }
   ],
   "source": [
    "library(foreach)\n",
    "tic(\"foreach only\")\n",
    "results_foreach <- c()\n",
    "results <- foreach (i=1:N, .combine=\"cbind\") %do% {\n",
    "  sqrt(i)\n",
    "}\n",
    "toc()"
   ]
  },
  {
   "cell_type": "code",
   "execution_count": 50,
   "metadata": {},
   "outputs": [],
   "source": [
    "library(foreach)\n",
    "library(doParallel)"
   ]
  },
  {
   "cell_type": "code",
   "execution_count": 54,
   "metadata": {},
   "outputs": [
    {
     "name": "stdout",
     "output_type": "stream",
     "text": [
      "foreach + doParallel: 193.241 sec elapsed\n"
     ]
    }
   ],
   "source": [
    "numCores <- detectCores() - 1\n",
    "tic(\"foreach + doParallel\")\n",
    "cl <- makeCluster(numCores)\n",
    "registerDoParallel(cl)\n",
    "#registerDoParallel(numCores)  # use multicore, set to the number of our cores\n",
    "results <- foreach (i=1:N, .combine=\"cbind\") %dopar% {\n",
    "  sqrt(i)\n",
    "}\n",
    "toc()"
   ]
  },
  {
   "cell_type": "code",
   "execution_count": 28,
   "metadata": {},
   "outputs": [],
   "source": [
    "library(tictoc)"
   ]
  },
  {
   "cell_type": "code",
   "execution_count": null,
   "metadata": {},
   "outputs": [],
   "source": [
    "mpi.finalize() # Terminate spawned slaves\n",
    "mpi.exit() # mpi.finalize() + detach Rmpi \n",
    "mpi.quit() # mpi.exit() + close R"
   ]
  },
  {
   "cell_type": "code",
   "execution_count": null,
   "metadata": {},
   "outputs": [],
   "source": [
    "library(Rmpi)\n",
    "mpi.spawn.Rslaves(nslaves=5)\n",
    "# Syntax\n",
    "# mpi.remote.exec(cmd, …, simplify = TRUE, comm =1, ret =TRUE)\n",
    "mpi.remote.exec(paste(\"I am\",mpi.comm.rank(),\"of\",mpi.comm.size()))\n",
    "\n",
    "mpi.remote.exec(sum(1:mpi.comm.rank()))\n",
    "mpi.finalize()"
   ]
  },
  {
   "cell_type": "code",
   "execution_count": null,
   "metadata": {},
   "outputs": [],
   "source": [
    "mpi.spawn.Rslaves(nslaves=4)\n",
    "ptm<-proc.time() \n",
    "mpi.iparReplicate(400, mean(rnorm(1000000)))\n",
    "print(proc.time() - ptm)\n",
    "mpi.finalize()"
   ]
  },
  {
   "cell_type": "markdown",
   "metadata": {
    "slideshow": {
     "slide_type": "slide"
    }
   },
   "source": [
    "## Acknowlegments"
   ]
  },
  {
   "cell_type": "markdown",
   "metadata": {
    "slideshow": {
     "slide_type": "subslide"
    }
   },
   "source": [
    "- South Dakota State University\n",
    "- Costa Rica National Center for High Technology (CeNAT)"
   ]
  },
  {
   "cell_type": "markdown",
   "metadata": {
    "slideshow": {
     "slide_type": "slide"
    }
   },
   "source": [
    "## References"
   ]
  },
  {
   "cell_type": "markdown",
   "metadata": {
    "slideshow": {
     "slide_type": "subslide"
    }
   },
   "source": [
    "- https://cran.r-project.org/web/packages/doParallel/vignettes/gettingstartedParallel.pdf\n",
    "- https://nceas.github.io/oss-lessons/parallel-computing-in-r/parallel-computing-in-r.html\n",
    "- https://blog.jupyter.org/a-slideshow-template-for-voil%C3%A0-apps-435f67d10b4f\n",
    "- https://bioinfomagician.wordpress.com/2013/11/25/mpi-tutorial-for-r-rmpi/\n",
    "\n",
    "[1] Barney, B., \"Introduction to Parallel Computing\", Lawrence Livermore National Laboratory\n",
    "https://computing.llnl.gov/tutorials/parallel_comp/\n",
    "\n",
    "[2] "
   ]
  },
  {
   "cell_type": "code",
   "execution_count": null,
   "metadata": {},
   "outputs": [],
   "source": []
  }
 ],
 "metadata": {
  "celltoolbar": "Slideshow",
  "kernelspec": {
   "display_name": "R",
   "language": "R",
   "name": "ir"
  },
  "language_info": {
   "codemirror_mode": "r",
   "file_extension": ".r",
   "mimetype": "text/x-r-source",
   "name": "R",
   "pygments_lexer": "r",
   "version": "3.6.0"
  }
 },
 "nbformat": 4,
 "nbformat_minor": 4
}

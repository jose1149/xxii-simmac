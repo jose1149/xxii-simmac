{
 "cells": [
  {
   "cell_type": "markdown",
   "metadata": {
    "slideshow": {
     "slide_type": "slide"
    }
   },
   "source": [
    "![img](https://raw.githubusercontent.com/villegar/xxii-simmac/master/images/logoEN.png)\n",
    "# Parallel Computing using Rmpi\n",
    "### by Roberto Villegas-Diaz & Anne Fennell, PhD\n",
    "### South Dakota State University\n",
    "\n",
    "<img style=\"float: right, margin-top\" src=\"https://raw.githubusercontent.com/villegar/xxii-simmac/master/images/SDLogo3c.jpg\" alt=\"SDSU\" width=\"200\"/>"
   ]
  },
  {
   "cell_type": "markdown",
   "metadata": {
    "slideshow": {
     "slide_type": "slide"
    }
   },
   "source": [
    "## Outline\n",
    "- Overview\n",
    "- Introduction to Parallel Computing\n",
    "- Hands-On\n",
    "- Remarks\n",
    "- References\n",
    "- Acknowledgements"
   ]
  },
  {
   "cell_type": "markdown",
   "metadata": {
    "slideshow": {
     "slide_type": "slide"
    }
   },
   "source": [
    "## Overview\n",
    "\n",
    "![meme](https://i.redd.it/9tu18n684z331.jpg)\n",
    "\n",
    "Source: https://www.reddit.com/r/ProgrammerHumor/comments/bzv8q4/parallelism_be_like/"
   ]
  },
  {
   "cell_type": "markdown",
   "metadata": {
    "slideshow": {
     "slide_type": "slide"
    }
   },
   "source": [
    "### Serial Computing\n",
    "\n",
    "![serial-computing](https://raw.githubusercontent.com/villegar/xxii-simmac/master/images/serialProblem.gif)\n"
   ]
  },
  {
   "cell_type": "markdown",
   "metadata": {
    "slideshow": {
     "slide_type": "notes"
    }
   },
   "source": [
    "- A problem is broken into a discrete series of instructions\n",
    "- Instructions are executed sequentially one after another\n",
    "- Executed on a single processor\n",
    "- Only one instruction may execute at any moment in time"
   ]
  },
  {
   "cell_type": "markdown",
   "metadata": {
    "slideshow": {
     "slide_type": "slide"
    }
   },
   "source": [
    "### Parallel Computing\n",
    "![parallel-computing](https://raw.githubusercontent.com/villegar/xxii-simmac/master/images/parallelProblem.gif)"
   ]
  },
  {
   "cell_type": "markdown",
   "metadata": {
    "slideshow": {
     "slide_type": "notes"
    }
   },
   "source": [
    "- A problem is broken into discrete parts that can be solved concurrently\n",
    "- Each part is further broken down to a series of instructions\n",
    "- Instructions from each part execute simultaneously on different processors\n",
    "- An overall control/coordination mechanism is employed"
   ]
  },
  {
   "cell_type": "markdown",
   "metadata": {
    "slideshow": {
     "slide_type": "slide"
    }
   },
   "source": [
    "### Available Resources\n",
    "\n",
    "- CeNAT (Centro Nacional de Alta Tecnología), CR: http://www.cenat.ac.cr/en/\n",
    "- PRACE (Partnership for Advanced Computing in Europe), Europe: http://www.prace-ri.eu\n",
    "- RIKEN (Kokuritsu Kenkyū Kaihatsu Hōjin Rikagaku Kenkyūsho), Japan: https://www.riken.jp/en/ \n",
    "- XSEDE (Extreme Science and Engineering Discovery Environment), USA: https://www.xsede.org"
   ]
  },
  {
   "cell_type": "markdown",
   "metadata": {
    "slideshow": {
     "slide_type": "slide"
    }
   },
   "source": [
    "### Top 500 Supercomputers*\n",
    "![top500](https://raw.githubusercontent.com/villegar/xxii-simmac/master/images/top500-top3.jpg)\n",
    "\n",
    "Source: https://www.top500.org\n",
    "\n",
    "\\* November 2019"
   ]
  },
  {
   "cell_type": "markdown",
   "metadata": {
    "slideshow": {
     "slide_type": "notes"
    }
   },
   "source": [
    "- Rmax - Maximal LINPACK performance achieved\n",
    "- Rpeak - Theoretical peak performance\n",
    "- LINPACK is a collection of Fortran subroutines that analyze and solve linear equations and linear least-squares problems. The package solves linear systems whose matrices are general, banded, symmetric indefinite, symmetric positive definite, triangular, and tridiagonal square. In addition, the package computes the QR and singular value decompositions of rectangular matrices and applies them to least-squares problems. LINPACK uses column-oriented algorithms to increase efficiency by preserving locality of reference. \n",
    "\n",
    "Sources: https://www.top500.org/project/top500_description/ and https://www.netlib.org/linpack/"
   ]
  },
  {
   "cell_type": "markdown",
   "metadata": {
    "slideshow": {
     "slide_type": "slide"
    }
   },
   "source": [
    "### HPC system \n",
    "![hpc-system](https://raw.githubusercontent.com/villegar/xxii-simmac/master/images/nodesNetwork.gif)"
   ]
  },
  {
   "cell_type": "markdown",
   "metadata": {
    "slideshow": {
     "slide_type": "notes"
    }
   },
   "source": [
    "There is a wide range of configurations used on HPC systems, above represents a simplified version for illustration purposes."
   ]
  },
  {
   "cell_type": "markdown",
   "metadata": {
    "slideshow": {
     "slide_type": "slide"
    }
   },
   "source": [
    "### Why Use Parallel Computing?\n"
   ]
  },
  {
   "cell_type": "markdown",
   "metadata": {
    "slideshow": {
     "slide_type": "notes"
    }
   },
   "source": [
    "#### The Real World is Massively Parallel:\n",
    "- In the natural world, many complex, interrelated events are happening at the same time, yet within a temporal sequence.\n",
    "- Compared to serial computing, parallel computing is much better suited for modeling, simulating and understanding complex, real world phenomena."
   ]
  },
  {
   "cell_type": "markdown",
   "metadata": {
    "slideshow": {
     "slide_type": "fragment"
    }
   },
   "source": [
    "![real-world-applications-1](https://raw.githubusercontent.com/villegar/xxii-simmac/master/images/realWorldCollage1.jpg)"
   ]
  },
  {
   "cell_type": "markdown",
   "metadata": {
    "slideshow": {
     "slide_type": "fragment"
    }
   },
   "source": [
    "![real-world-applications-2](https://raw.githubusercontent.com/villegar/xxii-simmac/master/images/realWorldCollage2.jpg)"
   ]
  },
  {
   "cell_type": "markdown",
   "metadata": {
    "slideshow": {
     "slide_type": "skip"
    }
   },
   "source": [
    "![real-world-applications-3](https://raw.githubusercontent.com/villegar/xxii-simmac/master/images/realWorldCollage3.jpg)"
   ]
  },
  {
   "cell_type": "markdown",
   "metadata": {
    "slideshow": {
     "slide_type": "slide"
    }
   },
   "source": [
    "### Why Use Parallel Computing? (cont.)"
   ]
  },
  {
   "cell_type": "markdown",
   "metadata": {
    "slideshow": {
     "slide_type": "fragment"
    }
   },
   "source": [
    "- Save time and/or money"
   ]
  },
  {
   "cell_type": "markdown",
   "metadata": {
    "slideshow": {
     "slide_type": "notes"
    }
   },
   "source": [
    "In theory, throwing more resources at a task will shorten its time to completion, with potential cost savings.\n",
    "Parallel computers can be built from cheap, commodity components."
   ]
  },
  {
   "cell_type": "markdown",
   "metadata": {
    "slideshow": {
     "slide_type": "fragment"
    }
   },
   "source": [
    "- Solve larger and more complex problems"
   ]
  },
  {
   "cell_type": "markdown",
   "metadata": {
    "slideshow": {
     "slide_type": "notes"
    }
   },
   "source": [
    "Many problems are so large and/or complex that it is impractical or impossible to solve them on a single computer, especially given limited computer memory.\n",
    "Example: \"Grand Challenge Problems\" (en.wikipedia.org/wiki/Grand_Challenge) requiring PetaFLOPS and PetaBytes of computing resources.\n",
    "Example: Web search engines/databases processing millions of transactions every second"
   ]
  },
  {
   "cell_type": "markdown",
   "metadata": {
    "slideshow": {
     "slide_type": "fragment"
    }
   },
   "source": [
    "- Provide concurrency"
   ]
  },
  {
   "cell_type": "markdown",
   "metadata": {
    "slideshow": {
     "slide_type": "notes"
    }
   },
   "source": [
    "A single compute resource can only do one thing at a time. Multiple compute resources can do many things simultaneously.\n",
    "Example: Collaborative Networks provide a global venue where people from around the world can meet and conduct work \"virtually\"."
   ]
  },
  {
   "cell_type": "markdown",
   "metadata": {
    "slideshow": {
     "slide_type": "fragment"
    }
   },
   "source": [
    "- Take advantage of non-local resources"
   ]
  },
  {
   "cell_type": "markdown",
   "metadata": {
    "slideshow": {
     "slide_type": "notes"
    }
   },
   "source": [
    "Using compute resources on a wide area network, or even the Internet when local compute resources are scarce or insufficient. Two examples below, each of which has over 1.7 million contributors globally (May 2018):\n",
    "Example: SETI@home (setiathome.berkeley.edu)\n",
    "Example: Folding@home (folding.stanford.edu)"
   ]
  },
  {
   "cell_type": "markdown",
   "metadata": {
    "slideshow": {
     "slide_type": "fragment"
    }
   },
   "source": [
    "- Make better use of underlying parallel hardware"
   ]
  },
  {
   "cell_type": "markdown",
   "metadata": {
    "slideshow": {
     "slide_type": "notes"
    }
   },
   "source": [
    "   Modern computers, even laptops, are parallel in architecture with multiple processors/cores.\n",
    "Parallel software is specifically intended for parallel hardware with multiple cores, threads, etc.\n",
    "In most cases, serial programs run on modern computers \"waste\" potential computing power."
   ]
  },
  {
   "cell_type": "markdown",
   "metadata": {
    "slideshow": {
     "slide_type": "slide"
    }
   },
   "source": [
    "### The Future: Exascale Computing\n",
    "\n",
    "\n",
    "Exaflop = $10^{18}$ calculations per second"
   ]
  },
  {
   "cell_type": "markdown",
   "metadata": {
    "slideshow": {
     "slide_type": "slide"
    }
   },
   "source": [
    "## Introduction to Parallel Computing"
   ]
  },
  {
   "cell_type": "markdown",
   "metadata": {
    "slideshow": {
     "slide_type": "slide"
    }
   },
   "source": [
    "## Game rules"
   ]
  },
  {
   "cell_type": "markdown",
   "metadata": {
    "slideshow": {
     "slide_type": "fragment"
    }
   },
   "source": [
    "### Speedup\n",
    "\n",
    "$$S_p = \\frac{T_s}{T_p}$$\n"
   ]
  },
  {
   "cell_type": "markdown",
   "metadata": {
    "slideshow": {
     "slide_type": "fragment"
    }
   },
   "source": [
    "<img src=\"https://raw.githubusercontent.com/villegar/xxii-simmac/master/images/speedup-curve.png\" width=\"500\">"
   ]
  },
  {
   "cell_type": "markdown",
   "metadata": {
    "slideshow": {
     "slide_type": "notes"
    }
   },
   "source": [
    "where:\n",
    " - $p$ is the number of processors\n",
    " - $T_s$ is the execution time of the sequential algorithm\n",
    " - $T_p$ is the execution time of the parallel algorithm \n",
    " - $S_p = p$ (linear speedup, ideal)\n"
   ]
  },
  {
   "cell_type": "markdown",
   "metadata": {
    "slideshow": {
     "slide_type": "slide"
    }
   },
   "source": [
    "## Game rules (cont.)"
   ]
  },
  {
   "cell_type": "markdown",
   "metadata": {
    "slideshow": {
     "slide_type": "fragment"
    }
   },
   "source": [
    "### Parallel efficiency \n",
    "\n",
    "$$E_p = \\frac{S_p}{p} = \\frac{T_s}{p T_p}$$"
   ]
  },
  {
   "cell_type": "markdown",
   "metadata": {
    "slideshow": {
     "slide_type": "slide"
    }
   },
   "source": [
    "## More rules\n",
    "### Amdahl's Law"
   ]
  },
  {
   "cell_type": "markdown",
   "metadata": {
    "slideshow": {
     "slide_type": "notes"
    }
   },
   "source": [
    "All parallel programs contain: \n",
    "\n",
    "- parallel sections (we hope!)\n",
    "- serial sections (we despair!)\n",
    "\n",
    "Serial sections limit the parallel effectiveness."
   ]
  },
  {
   "cell_type": "markdown",
   "metadata": {},
   "source": [
    "\n",
    "$$S_p = \\frac{T_s}{T_p} \\le \\frac{p}{pf_s + f_p}$$"
   ]
  },
  {
   "cell_type": "markdown",
   "metadata": {
    "slideshow": {
     "slide_type": "notes"
    }
   },
   "source": [
    "where:\n",
    "- $p$ is the number of processors\n",
    "- $f_s$ is the serial fraction of the code\n",
    "- $f_p$ is the parallel fraction of the code"
   ]
  },
  {
   "cell_type": "markdown",
   "metadata": {
    "slideshow": {
     "slide_type": "fragment"
    }
   },
   "source": [
    "Example:\n",
    "\n",
    "$f_s = 0.5$, $f_p = 0.5$, $p = 2$"
   ]
  },
  {
   "cell_type": "markdown",
   "metadata": {
    "slideshow": {
     "slide_type": "fragment"
    }
   },
   "source": [
    "$$S_{p, max} = \\frac{p}{pf_s + f_p} = \\frac{2}{2 \\times 0.5 + 0.5} = 1.\\bar{3}$$"
   ]
  },
  {
   "cell_type": "markdown",
   "metadata": {
    "slideshow": {
     "slide_type": "fragment"
    }
   },
   "source": [
    "Another example:\n",
    "\n",
    "$f_s = 0.5$, $f_p = 0.5$, $p = 4$"
   ]
  },
  {
   "cell_type": "markdown",
   "metadata": {
    "slideshow": {
     "slide_type": "fragment"
    }
   },
   "source": [
    "$$S_{p, max} = \\frac{p}{pf_s + f_p} = \\frac{4}{4 \\times 0.5 + 0.5} = 1.6$$"
   ]
  },
  {
   "cell_type": "markdown",
   "metadata": {},
   "source": []
  },
  {
   "cell_type": "markdown",
   "metadata": {
    "slideshow": {
     "slide_type": "slide"
    }
   },
   "source": [
    "### Amdahl's Law (strong scaling)\n",
    "<img src=\"https://github.com/villegar/xxii-simmac/blob/master/images/amdahls-law.png?raw=true\" width=\"500\">"
   ]
  },
  {
   "cell_type": "markdown",
   "metadata": {
    "slideshow": {
     "slide_type": "slide"
    }
   },
   "source": [
    "### Amdahl’s Law vs. Reality\n",
    "\n",
    "- Load balancing (waiting)\n",
    "- Scheduling (shared processors or memory)\n",
    "- Cost of Communications – I/O\n",
    "\n",
    "<img src=\"https://github.com/villegar/xxii-simmac/blob/master/images/amdahls-realityv2.png?raw=true\" width=500px />"
   ]
  },
  {
   "cell_type": "markdown",
   "metadata": {
    "slideshow": {
     "slide_type": "slide"
    }
   },
   "source": [
    "### Gustafson’s Law"
   ]
  },
  {
   "cell_type": "markdown",
   "metadata": {
    "slideshow": {
     "slide_type": "notes"
    }
   },
   "source": [
    "Effect of multiple processors on run time of a problem with a fixed amount of parallel work per processor."
   ]
  },
  {
   "cell_type": "markdown",
   "metadata": {},
   "source": [
    "$$S_p = \\frac{T_s}{T_p} \\le p - \\alpha (p-1)$$"
   ]
  },
  {
   "cell_type": "markdown",
   "metadata": {
    "slideshow": {
     "slide_type": "notes"
    }
   },
   "source": [
    "where:\n",
    "- $\\alpha$ is the fraction of non-parallelized code where the parallel work per processor is fixed (not the same as $f_s$ from Amdahl’s law) and can vary with $p$ and with problem size.\n",
    "- $p$ is the number of processors"
   ]
  },
  {
   "cell_type": "markdown",
   "metadata": {
    "slideshow": {
     "slide_type": "fragment"
    }
   },
   "source": [
    "Example:\n",
    "\n",
    "$\\alpha = 0.5$, $p = 2$"
   ]
  },
  {
   "cell_type": "markdown",
   "metadata": {
    "slideshow": {
     "slide_type": "fragment"
    }
   },
   "source": [
    "$$S_{p, max} = p - \\alpha (p-1) = 2 - 0.5(2-1) = 1.5$$"
   ]
  },
  {
   "cell_type": "markdown",
   "metadata": {},
   "source": [
    "Another example:\n",
    "\n",
    "$\\alpha = 0.4$, $p = 4$"
   ]
  },
  {
   "cell_type": "markdown",
   "metadata": {},
   "source": [
    "$$S_{p, max} = p - \\alpha (p-1) = 4 - 0.5(4-1) = 2.5$$"
   ]
  },
  {
   "cell_type": "markdown",
   "metadata": {
    "slideshow": {
     "slide_type": "slide"
    }
   },
   "source": [
    "<img src=\"https://github.com/villegar/xxii-simmac/blob/master/images/gustafsons-law.png?raw=true\" width=\"500px\" />"
   ]
  },
  {
   "cell_type": "markdown",
   "metadata": {
    "slideshow": {
     "slide_type": "slide"
    }
   },
   "source": [
    "### Scaling: Strong vs. Weak"
   ]
  },
  {
   "cell_type": "markdown",
   "metadata": {},
   "source": [
    "\n",
    "- __Strong scaling:__ for a fixed size data ($N$), as the processor count $p$ increases, our $T_p$ should decrease approximately linearly. This means that $E_p$ remains approximately constant."
   ]
  },
  {
   "cell_type": "markdown",
   "metadata": {
    "slideshow": {
     "slide_type": "fragment"
    }
   },
   "source": [
    "- __Weak scaling:__ as we increase both the processor count $p$ and the size of the data $N$, our $T_p$, $E_p$, and $Flops$ should remain approximately constant. "
   ]
  },
  {
   "cell_type": "markdown",
   "metadata": {
    "slideshow": {
     "slide_type": "slide"
    }
   },
   "source": [
    "## Flynn's Classical Taxonomy"
   ]
  },
  {
   "cell_type": "markdown",
   "metadata": {
    "slideshow": {
     "slide_type": "-"
    }
   },
   "source": [
    "<img src=\"https://github.com/villegar/xxii-simmac/blob/master/images/flynnsTaxonomy.gif?raw=true\" />"
   ]
  },
  {
   "cell_type": "markdown",
   "metadata": {
    "slideshow": {
     "slide_type": "notes"
    }
   },
   "source": [
    "#### SISD\n",
    "\n",
    "- Single Instruction: Only one instruction stream is being acted on by the CPU during any one clock cycle\n",
    "- Single Data: Only one data stream is being used as input during any one clock cycle\n",
    "- Deterministic execution\n",
    "\n",
    "<img src=\"https://github.com/villegar/xxii-simmac/blob/master/images/sisd2.gif?raw=true\" width=\"300\" alt=\"SISD\" />"
   ]
  },
  {
   "cell_type": "markdown",
   "metadata": {
    "slideshow": {
     "slide_type": "notes"
    }
   },
   "source": [
    "#### SIMD\n",
    "\n",
    "- Single Instruction: All processing units execute the same instruction at any given clock cycle\n",
    "- Multiple Data: Each processing unit can operate on a different data element\n",
    "- Best suited for specialized problems characterized by a high degree of regularity, such as graphics/image processing.\n",
    "- Synchronous (lockstep) and deterministic execution\n",
    "- Two varieties: Processor Arrays and Vector Pipelines\n",
    "\n",
    "<img src=\"https://github.com/villegar/xxii-simmac/blob/master/images/simd3.gif?raw=true\" width=\"300\" alt=\"SIMD\" />"
   ]
  },
  {
   "cell_type": "markdown",
   "metadata": {
    "slideshow": {
     "slide_type": "notes"
    }
   },
   "source": [
    "#### MISD\n",
    "\n",
    "- Multiple Instruction: Each processing unit operates on the data independently via separate instruction streams.\n",
    "- Single Data: A single data stream is fed into multiple processing units.\n",
    "- Few (if any) actual examples of this class of parallel computer have ever existed.\n",
    "- Some conceivable uses might be:\n",
    "    - multiple frequency filters operating on a single signal stream\n",
    "    - multiple cryptography algorithms attempting to crack a single coded message.\n",
    "\n",
    "<img src=\"https://github.com/villegar/xxii-simmac/blob/master/images/misd4.gif?raw=true\" width=\"300\" alt=\"MISD\" />"
   ]
  },
  {
   "cell_type": "markdown",
   "metadata": {
    "slideshow": {
     "slide_type": "notes"
    }
   },
   "source": [
    "#### MIMD\n",
    "\n",
    "- Multiple Instruction: Every processor may be executing a different instruction stream\n",
    "- Multiple Data: Every processor may be working with a different data stream\n",
    "- Execution can be synchronous or asynchronous, deterministic or non-deterministic\n",
    "- Currently, the most common type of parallel computer - most modern supercomputers fall into this category.\n",
    "- Examples: most current supercomputers, networked parallel computer clusters and \"grids\", multi-processor SMP computers, multi-core PCs.\n",
    "\n",
    "<img src=\"https://github.com/villegar/xxii-simmac/blob/master/images/mimd2.gif?raw=true\" width=\"300\" alt=\"MIMD\" />"
   ]
  },
  {
   "cell_type": "markdown",
   "metadata": {
    "slideshow": {
     "slide_type": "slide"
    }
   },
   "source": [
    "## Testing installation"
   ]
  },
  {
   "cell_type": "markdown",
   "metadata": {
    "slideshow": {
     "slide_type": "slide"
    }
   },
   "source": [
    "## [`foreach`](https://cran.r-project.org/package=foreach) library"
   ]
  },
  {
   "cell_type": "markdown",
   "metadata": {
    "slideshow": {
     "slide_type": "notes"
    }
   },
   "source": [
    "```{r}\n",
    "foreach( ...,\n",
    "        .combine,\n",
    "        .init,\n",
    "        .final = NULL,\n",
    "        .inorder = TRUE,\n",
    "        .multicombine = FALSE,\n",
    "        .maxcombine = if (.multicombine) 100 else 2, \n",
    "        .errorhandling = c(\"stop\", \"remove\", \"pass\"), \n",
    "        .packages = NULL,\n",
    "        .export = NULL, \n",
    "        .noexport = NULL, \n",
    "        .verbose = FALSE\n",
    ") %do% {\n",
    "    # Your code goes here\n",
    "}\n",
    "```"
   ]
  },
  {
   "cell_type": "code",
   "execution_count": 1,
   "metadata": {
    "slideshow": {
     "slide_type": "-"
    }
   },
   "outputs": [
    {
     "data": {
      "text/html": [
       "<ol>\n",
       "\t<li>1</li>\n",
       "\t<li>1.4142135623731</li>\n",
       "\t<li>1.73205080756888</li>\n",
       "</ol>\n"
      ],
      "text/latex": [
       "\\begin{enumerate}\n",
       "\\item 1\n",
       "\\item 1.4142135623731\n",
       "\\item 1.73205080756888\n",
       "\\end{enumerate}\n"
      ],
      "text/markdown": [
       "1. 1\n",
       "2. 1.4142135623731\n",
       "3. 1.73205080756888\n",
       "\n",
       "\n"
      ],
      "text/plain": [
       "[[1]]\n",
       "[1] 1\n",
       "\n",
       "[[2]]\n",
       "[1] 1.414214\n",
       "\n",
       "[[3]]\n",
       "[1] 1.732051\n"
      ]
     },
     "metadata": {},
     "output_type": "display_data"
    }
   ],
   "source": [
    "library(foreach)\n",
    "\n",
    "foreach (i = 1:3) %do% {\n",
    "    sqrt(i)\n",
    "}"
   ]
  },
  {
   "cell_type": "markdown",
   "metadata": {
    "slideshow": {
     "slide_type": "slide"
    }
   },
   "source": [
    "## `foreach` + [`doParallel`](https://cran.r-project.org/package=doParallel)"
   ]
  },
  {
   "cell_type": "markdown",
   "metadata": {
    "slideshow": {
     "slide_type": "notes"
    }
   },
   "source": [
    "The doParallel package provides a parallel backend for the foreach (__%dopar%__) function using the parallel package of R 2.14.0 and later."
   ]
  },
  {
   "cell_type": "code",
   "execution_count": 8,
   "metadata": {
    "slideshow": {
     "slide_type": "-"
    }
   },
   "outputs": [
    {
     "name": "stdout",
     "output_type": "stream",
     "text": [
      "[1] 11\n"
     ]
    },
    {
     "data": {
      "text/html": [
       "<ol>\n",
       "\t<li>1</li>\n",
       "\t<li>1.4142135623731</li>\n",
       "\t<li>1.73205080756888</li>\n",
       "</ol>\n"
      ],
      "text/latex": [
       "\\begin{enumerate}\n",
       "\\item 1\n",
       "\\item 1.4142135623731\n",
       "\\item 1.73205080756888\n",
       "\\end{enumerate}\n"
      ],
      "text/markdown": [
       "1. 1\n",
       "2. 1.4142135623731\n",
       "3. 1.73205080756888\n",
       "\n",
       "\n"
      ],
      "text/plain": [
       "[[1]]\n",
       "[1] 1\n",
       "\n",
       "[[2]]\n",
       "[1] 1.414214\n",
       "\n",
       "[[3]]\n",
       "[1] 1.732051\n"
      ]
     },
     "metadata": {},
     "output_type": "display_data"
    }
   ],
   "source": [
    "library(foreach)\n",
    "library(doParallel)\n",
    "\n",
    "numCores <- detectCores() - 1 # Obtain the number of \"workers\" (available CPUs)\n",
    "print(numCores)\n",
    "\n",
    "cl <- makeCluster(numCores) # create a \"cluster\" object with numCores workers\n",
    "registerDoParallel(cl) # register the parallel backend\n",
    "foreach (i=1:3) %dopar% {\n",
    "  sqrt(i)\n",
    "}\n",
    "stopCluster(cl)"
   ]
  },
  {
   "cell_type": "markdown",
   "metadata": {
    "slideshow": {
     "slide_type": "slide"
    }
   },
   "source": [
    "## [`Rmpi`](https://cran.r-project.org/package=Rmpi) library"
   ]
  },
  {
   "cell_type": "code",
   "execution_count": 2,
   "metadata": {},
   "outputs": [
    {
     "name": "stdout",
     "output_type": "stream",
     "text": [
      "[1] \"Rmpi loaded\"\n",
      "\t5 slaves are spawned successfully. 0 failed.\n",
      "master (rank 0, comm 1) of size 6 is running on: jupyter \n",
      "slave1 (rank 1, comm 1) of size 6 is running on: jupyter \n",
      "slave2 (rank 2, comm 1) of size 6 is running on: jupyter \n",
      "slave3 (rank 3, comm 1) of size 6 is running on: jupyter \n",
      "slave4 (rank 4, comm 1) of size 6 is running on: jupyter \n",
      "slave5 (rank 5, comm 1) of size 6 is running on: jupyter \n"
     ]
    },
    {
     "data": {
      "text/html": [
       "<dl>\n",
       "\t<dt>$slave1</dt>\n",
       "\t\t<dd>'I am 1 of 6'</dd>\n",
       "\t<dt>$slave2</dt>\n",
       "\t\t<dd>'I am 2 of 6'</dd>\n",
       "\t<dt>$slave3</dt>\n",
       "\t\t<dd>'I am 3 of 6'</dd>\n",
       "\t<dt>$slave4</dt>\n",
       "\t\t<dd>'I am 4 of 6'</dd>\n",
       "\t<dt>$slave5</dt>\n",
       "\t\t<dd>'I am 5 of 6'</dd>\n",
       "</dl>\n"
      ],
      "text/latex": [
       "\\begin{description}\n",
       "\\item[\\$slave1] 'I am 1 of 6'\n",
       "\\item[\\$slave2] 'I am 2 of 6'\n",
       "\\item[\\$slave3] 'I am 3 of 6'\n",
       "\\item[\\$slave4] 'I am 4 of 6'\n",
       "\\item[\\$slave5] 'I am 5 of 6'\n",
       "\\end{description}\n"
      ],
      "text/markdown": [
       "$slave1\n",
       ":   'I am 1 of 6'\n",
       "$slave2\n",
       ":   'I am 2 of 6'\n",
       "$slave3\n",
       ":   'I am 3 of 6'\n",
       "$slave4\n",
       ":   'I am 4 of 6'\n",
       "$slave5\n",
       ":   'I am 5 of 6'\n",
       "\n",
       "\n"
      ],
      "text/plain": [
       "$slave1\n",
       "[1] \"I am 1 of 6\"\n",
       "\n",
       "$slave2\n",
       "[1] \"I am 2 of 6\"\n",
       "\n",
       "$slave3\n",
       "[1] \"I am 3 of 6\"\n",
       "\n",
       "$slave4\n",
       "[1] \"I am 4 of 6\"\n",
       "\n",
       "$slave5\n",
       "[1] \"I am 5 of 6\"\n"
      ]
     },
     "metadata": {},
     "output_type": "display_data"
    },
    {
     "data": {
      "text/html": [
       "<table>\n",
       "<thead><tr><th scope=col>X1</th><th scope=col>X2</th><th scope=col>X3</th><th scope=col>X4</th><th scope=col>X5</th></tr></thead>\n",
       "<tbody>\n",
       "\t<tr><td>1 </td><td>3 </td><td>6 </td><td>10</td><td>15</td></tr>\n",
       "</tbody>\n",
       "</table>\n"
      ],
      "text/latex": [
       "\\begin{tabular}{r|lllll}\n",
       " X1 & X2 & X3 & X4 & X5\\\\\n",
       "\\hline\n",
       "\t 1  & 3  & 6  & 10 & 15\\\\\n",
       "\\end{tabular}\n"
      ],
      "text/markdown": [
       "\n",
       "X1 | X2 | X3 | X4 | X5 | \n",
       "|---|\n",
       "| 1  | 3  | 6  | 10 | 15 | \n",
       "\n",
       "\n"
      ],
      "text/plain": [
       "  X1 X2 X3 X4 X5\n",
       "1 1  3  6  10 15"
      ]
     },
     "metadata": {},
     "output_type": "display_data"
    },
    {
     "data": {
      "text/html": [
       "1"
      ],
      "text/latex": [
       "1"
      ],
      "text/markdown": [
       "1"
      ],
      "text/plain": [
       "[1] 1"
      ]
     },
     "metadata": {},
     "output_type": "display_data"
    }
   ],
   "source": [
    "# Load the Rmpi package if it is not already loaded.\n",
    "if (!is.loaded(\"mpi_initialize\")) {\n",
    "    library(Rmpi)\n",
    "    print(\"Rmpi loaded\")\n",
    "}\n",
    "\n",
    "# mpi.spawn.Rslaves(Rscript=system.file(\"slavedaemon.R\", package=\"Rmpi\"), nslaves=mpi.universe.size(), \n",
    "#                   root = 0, intercomm = 2, comm = 1, hosts = NULL, needlog = TRUE, mapdrive=TRUE, \n",
    "#                   quiet = FALSE, nonblock=TRUE, sleep=0.1)\n",
    "mpi.spawn.Rslaves(nslaves=5)\n",
    "\n",
    "# mpi.remote.exec(cmd, ..., simplify = TRUE, comm = 1, ret = TRUE)\n",
    "mpi.remote.exec(paste(\"I am\",mpi.comm.rank(),\"of\",mpi.comm.size()))\n",
    "\n",
    "mpi.remote.exec(sum(1:mpi.comm.rank()))\n",
    "\n",
    "# mpi.close.Rslaves(dellog = TRUE, comm = 1)\n",
    "mpi.close.Rslaves()"
   ]
  },
  {
   "cell_type": "markdown",
   "metadata": {
    "slideshow": {
     "slide_type": "slide"
    }
   },
   "source": [
    "## Getting real\n",
    "\n",
    "$$\\displaystyle \\left(\\sqrt{-\\text{s#@t}}\\right)^2$$"
   ]
  },
  {
   "cell_type": "markdown",
   "metadata": {
    "slideshow": {
     "slide_type": "slide"
    }
   },
   "source": [
    "## Timing code with [`tictoc`](https://cran.r-project.org/package=tictoc)"
   ]
  },
  {
   "cell_type": "markdown",
   "metadata": {
    "slideshow": {
     "slide_type": "notes"
    }
   },
   "source": [
    "Functions for timing R scripts, as well as implementations of Stack and List structures."
   ]
  },
  {
   "cell_type": "code",
   "execution_count": 7,
   "metadata": {},
   "outputs": [
    {
     "name": "stdout",
     "output_type": "stream",
     "text": [
      "[1] \"Do something...\"\n",
      "Chunk name: 1.009 sec elapsed\n"
     ]
    }
   ],
   "source": [
    "library(tictoc)\n",
    "\n",
    "tic(\"Chunk name\") \n",
    "print(\"Do something...\") \n",
    "Sys.sleep(1)\n",
    "toc()"
   ]
  },
  {
   "cell_type": "markdown",
   "metadata": {
    "slideshow": {
     "slide_type": "slide"
    }
   },
   "source": [
    "## Operations with time"
   ]
  },
  {
   "cell_type": "code",
   "execution_count": 40,
   "metadata": {},
   "outputs": [],
   "source": [
    "# Function to extract the numeric elapsed time from a \"tictoc\" object\n",
    "toc_time <- function(times){\n",
    "    return(unname(times$toc-times$tic))\n",
    "}"
   ]
  },
  {
   "cell_type": "code",
   "execution_count": 46,
   "metadata": {
    "slideshow": {
     "slide_type": "fragment"
    }
   },
   "outputs": [
    {
     "name": "stdout",
     "output_type": "stream",
     "text": [
      "Timing and printing: 1.005 sec elapsed\n",
      "Elapsed time: \n",
      "\tSeconds: \t1.00500000000011\n",
      "\tMinutes: \t0.0167500000000018\n",
      "\tHours: \t\t0.000279166666666697"
     ]
    }
   ],
   "source": [
    "tic(\"Timing and printing\")\n",
    "Sys.sleep(1)\n",
    "tp <- toc()\n",
    "tp_numeric <- toc_time(tp)\n",
    "cat(paste0(\"Elapsed time: \\n\\tSeconds: \\t\",tp_numeric,\n",
    "           \"\\n\\tMinutes: \\t\",(tp_numeric/60),\n",
    "           \"\\n\\tHours: \\t\\t\",(tp_numeric/3600)\n",
    "          )\n",
    "   )"
   ]
  },
  {
   "cell_type": "markdown",
   "metadata": {
    "slideshow": {
     "slide_type": "slide"
    }
   },
   "source": [
    "## Iris data set"
   ]
  },
  {
   "cell_type": "markdown",
   "metadata": {
    "slideshow": {
     "slide_type": "notes"
    }
   },
   "source": [
    "1. sepal length [cm] \n",
    "2. sepal width [cm]\n",
    "3. petal length [cm] \n",
    "4. petal width [cm]\n",
    "5. class: \n",
    "    - Iris Setosa \n",
    "    - Iris Versicolour \n",
    "    - Iris Virginica\n",
    "    \n",
    "More information: https://archive.ics.uci.edu/ml/datasets/Iris"
   ]
  },
  {
   "cell_type": "code",
   "execution_count": 13,
   "metadata": {},
   "outputs": [
    {
     "data": {
      "text/html": [
       "<table>\n",
       "<thead><tr><th scope=col>Sepal.Length</th><th scope=col>Sepal.Width</th><th scope=col>Petal.Length</th><th scope=col>Petal.Width</th><th scope=col>Species</th></tr></thead>\n",
       "<tbody>\n",
       "\t<tr><td>5.1   </td><td>3.5   </td><td>1.4   </td><td>0.2   </td><td>setosa</td></tr>\n",
       "\t<tr><td>4.9   </td><td>3.0   </td><td>1.4   </td><td>0.2   </td><td>setosa</td></tr>\n",
       "\t<tr><td>4.7   </td><td>3.2   </td><td>1.3   </td><td>0.2   </td><td>setosa</td></tr>\n",
       "\t<tr><td>4.6   </td><td>3.1   </td><td>1.5   </td><td>0.2   </td><td>setosa</td></tr>\n",
       "\t<tr><td>5.0   </td><td>3.6   </td><td>1.4   </td><td>0.2   </td><td>setosa</td></tr>\n",
       "\t<tr><td>5.4   </td><td>3.9   </td><td>1.7   </td><td>0.4   </td><td>setosa</td></tr>\n",
       "</tbody>\n",
       "</table>\n"
      ],
      "text/latex": [
       "\\begin{tabular}{r|lllll}\n",
       " Sepal.Length & Sepal.Width & Petal.Length & Petal.Width & Species\\\\\n",
       "\\hline\n",
       "\t 5.1    & 3.5    & 1.4    & 0.2    & setosa\\\\\n",
       "\t 4.9    & 3.0    & 1.4    & 0.2    & setosa\\\\\n",
       "\t 4.7    & 3.2    & 1.3    & 0.2    & setosa\\\\\n",
       "\t 4.6    & 3.1    & 1.5    & 0.2    & setosa\\\\\n",
       "\t 5.0    & 3.6    & 1.4    & 0.2    & setosa\\\\\n",
       "\t 5.4    & 3.9    & 1.7    & 0.4    & setosa\\\\\n",
       "\\end{tabular}\n"
      ],
      "text/markdown": [
       "\n",
       "Sepal.Length | Sepal.Width | Petal.Length | Petal.Width | Species | \n",
       "|---|---|---|---|---|---|\n",
       "| 5.1    | 3.5    | 1.4    | 0.2    | setosa | \n",
       "| 4.9    | 3.0    | 1.4    | 0.2    | setosa | \n",
       "| 4.7    | 3.2    | 1.3    | 0.2    | setosa | \n",
       "| 4.6    | 3.1    | 1.5    | 0.2    | setosa | \n",
       "| 5.0    | 3.6    | 1.4    | 0.2    | setosa | \n",
       "| 5.4    | 3.9    | 1.7    | 0.4    | setosa | \n",
       "\n",
       "\n"
      ],
      "text/plain": [
       "  Sepal.Length Sepal.Width Petal.Length Petal.Width Species\n",
       "1 5.1          3.5         1.4          0.2         setosa \n",
       "2 4.9          3.0         1.4          0.2         setosa \n",
       "3 4.7          3.2         1.3          0.2         setosa \n",
       "4 4.6          3.1         1.5          0.2         setosa \n",
       "5 5.0          3.6         1.4          0.2         setosa \n",
       "6 5.4          3.9         1.7          0.4         setosa "
      ]
     },
     "metadata": {},
     "output_type": "display_data"
    }
   ],
   "source": [
    "head(iris)"
   ]
  },
  {
   "cell_type": "markdown",
   "metadata": {
    "slideshow": {
     "slide_type": "slide"
    }
   },
   "source": [
    "## Using `foreach` and `doParallel`"
   ]
  },
  {
   "cell_type": "code",
   "execution_count": 50,
   "metadata": {},
   "outputs": [
    {
     "data": {
      "text/html": [
       "<dl class=dl-horizontal>\n",
       "\t<dt>(Intercept)</dt>\n",
       "\t\t<dd>-12.5707833410652</dd>\n",
       "\t<dt>Sepal.Length</dt>\n",
       "\t\t<dd>2.01292699973386</dd>\n",
       "</dl>\n"
      ],
      "text/latex": [
       "\\begin{description*}\n",
       "\\item[(Intercept)] -12.5707833410652\n",
       "\\item[Sepal.Length] 2.01292699973386\n",
       "\\end{description*}\n"
      ],
      "text/markdown": [
       "(Intercept)\n",
       ":   -12.5707833410652Sepal.Length\n",
       ":   2.01292699973386\n",
       "\n"
      ],
      "text/plain": [
       " (Intercept) Sepal.Length \n",
       "  -12.570783     2.012927 "
      ]
     },
     "metadata": {},
     "output_type": "display_data"
    },
    {
     "name": "stdout",
     "output_type": "stream",
     "text": [
      "serial: 20.795 sec elapsed\n"
     ]
    }
   ],
   "source": [
    "library(foreach)\n",
    "library(doParallel)\n",
    "\n",
    "x <- iris[which(iris[,5] != \"setosa\"), c(\"Sepal.Length\",\"Species\")]\n",
    "N <- 10000\n",
    "tic(\"serial\")\n",
    "set.seed(1)\n",
    "serial_results <- foreach(i=1:N, .combine=cbind) %do% {\n",
    "    ind <- sample(100, 100)\n",
    "    glm.model <- with(x[ind,], glm(Species~Sepal.Length, family = binomial()))\n",
    "    coefficients(glm.model)\n",
    "}\n",
    "serial_results[,1]\n",
    "serial_time <- toc()"
   ]
  },
  {
   "cell_type": "code",
   "execution_count": 56,
   "metadata": {
    "slideshow": {
     "slide_type": "slide"
    }
   },
   "outputs": [
    {
     "data": {
      "text/html": [
       "<dl class=dl-horizontal>\n",
       "\t<dt>(Intercept)</dt>\n",
       "\t\t<dd>-12.5707833410652</dd>\n",
       "\t<dt>Sepal.Length</dt>\n",
       "\t\t<dd>2.01292699973386</dd>\n",
       "</dl>\n"
      ],
      "text/latex": [
       "\\begin{description*}\n",
       "\\item[(Intercept)] -12.5707833410652\n",
       "\\item[Sepal.Length] 2.01292699973386\n",
       "\\end{description*}\n"
      ],
      "text/markdown": [
       "(Intercept)\n",
       ":   -12.5707833410652Sepal.Length\n",
       ":   2.01292699973386\n",
       "\n"
      ],
      "text/plain": [
       " (Intercept) Sepal.Length \n",
       "  -12.570783     2.012927 "
      ]
     },
     "metadata": {},
     "output_type": "display_data"
    },
    {
     "name": "stdout",
     "output_type": "stream",
     "text": [
      "parallel: 13.904 sec elapsed\n"
     ]
    }
   ],
   "source": [
    "tic(\"parallel\")\n",
    "cl <- makeCluster(2)\n",
    "registerDoParallel(cl)\n",
    "set.seed(1)\n",
    "parallel_results <- foreach(i=1:N, .combine=cbind) %dopar% {\n",
    "    ind <- sample(100, 100)\n",
    "    glm.model <- with(x[ind,], glm(Species~Sepal.Length, family = binomial()))\n",
    "    coefficients(glm.model)\n",
    "}\n",
    "stopCluster(cl)\n",
    "parallel_results[,1]\n",
    "parallel_time <- toc()"
   ]
  },
  {
   "cell_type": "markdown",
   "metadata": {
    "slideshow": {
     "slide_type": "slide"
    }
   },
   "source": [
    "## Speed-Up"
   ]
  },
  {
   "cell_type": "code",
   "execution_count": 57,
   "metadata": {},
   "outputs": [
    {
     "data": {
      "text/html": [
       "1.4956127733026"
      ],
      "text/latex": [
       "1.4956127733026"
      ],
      "text/markdown": [
       "1.4956127733026"
      ],
      "text/plain": [
       "[1] 1.495613"
      ]
     },
     "metadata": {},
     "output_type": "display_data"
    }
   ],
   "source": [
    "toc_time(serial_time)/toc_time(parallel_time)"
   ]
  },
  {
   "cell_type": "markdown",
   "metadata": {
    "slideshow": {
     "slide_type": "slide"
    }
   },
   "source": [
    "## Backend Information"
   ]
  },
  {
   "cell_type": "code",
   "execution_count": 53,
   "metadata": {},
   "outputs": [
    {
     "data": {
      "text/html": [
       "2"
      ],
      "text/latex": [
       "2"
      ],
      "text/markdown": [
       "2"
      ],
      "text/plain": [
       "[1] 2"
      ]
     },
     "metadata": {},
     "output_type": "display_data"
    }
   ],
   "source": [
    "getDoParWorkers()"
   ]
  },
  {
   "cell_type": "code",
   "execution_count": 54,
   "metadata": {
    "slideshow": {
     "slide_type": "fragment"
    }
   },
   "outputs": [
    {
     "data": {
      "text/html": [
       "'doParallelSNOW'"
      ],
      "text/latex": [
       "'doParallelSNOW'"
      ],
      "text/markdown": [
       "'doParallelSNOW'"
      ],
      "text/plain": [
       "[1] \"doParallelSNOW\""
      ]
     },
     "metadata": {},
     "output_type": "display_data"
    }
   ],
   "source": [
    "getDoParName()"
   ]
  },
  {
   "cell_type": "code",
   "execution_count": 55,
   "metadata": {
    "slideshow": {
     "slide_type": "fragment"
    }
   },
   "outputs": [
    {
     "data": {
      "text/html": [
       "'1.0.15'"
      ],
      "text/latex": [
       "'1.0.15'"
      ],
      "text/markdown": [
       "'1.0.15'"
      ],
      "text/plain": [
       "[1] \"1.0.15\""
      ]
     },
     "metadata": {},
     "output_type": "display_data"
    }
   ],
   "source": [
    "getDoParVersion()"
   ]
  },
  {
   "cell_type": "code",
   "execution_count": null,
   "metadata": {},
   "outputs": [],
   "source": [
    "mpi.finalize() # Terminate spawned slaves\n",
    "mpi.exit() # mpi.finalize() + detach Rmpi \n",
    "mpi.quit() # mpi.exit() + close R"
   ]
  },
  {
   "cell_type": "code",
   "execution_count": null,
   "metadata": {},
   "outputs": [],
   "source": [
    "mpi.spawn.Rslaves(nslaves=4)\n",
    "ptm<-proc.time() \n",
    "mpi.iparReplicate(400, mean(rnorm(1000000)))\n",
    "print(proc.time() - ptm)\n",
    "mpi.finalize()"
   ]
  },
  {
   "cell_type": "markdown",
   "metadata": {
    "slideshow": {
     "slide_type": "slide"
    }
   },
   "source": [
    "## Acknowlegments"
   ]
  },
  {
   "cell_type": "markdown",
   "metadata": {
    "slideshow": {
     "slide_type": "-"
    }
   },
   "source": [
    "- South Dakota State University\n",
    "- Costa Rica National Center for High Technology (CeNAT)"
   ]
  },
  {
   "cell_type": "markdown",
   "metadata": {
    "slideshow": {
     "slide_type": "slide"
    }
   },
   "source": [
    "## References"
   ]
  },
  {
   "cell_type": "markdown",
   "metadata": {
    "slideshow": {
     "slide_type": "-"
    }
   },
   "source": [
    "- https://cran.r-project.org/web/packages/doParallel/vignettes/gettingstartedParallel.pdf\n",
    "- https://nceas.github.io/oss-lessons/parallel-computing-in-r/parallel-computing-in-r.html\n",
    "- https://blog.jupyter.org/a-slideshow-template-for-voil%C3%A0-apps-435f67d10b4f\n",
    "- https://bioinfomagician.wordpress.com/2013/11/25/mpi-tutorial-for-r-rmpi/\n",
    "\n",
    "[1] Barney, B., \"Introduction to Parallel Computing\", Lawrence Livermore National Laboratory\n",
    "https://computing.llnl.gov/tutorials/parallel_comp/\n",
    "\n",
    "[2] Weston, S. and Calaway, R. \"Getting Started with doParallel and foreach\", CRAN, \n",
    "https://cran.r-project.org/web/packages/doParallel/vignettes/gettingstartedParallel.pdf"
   ]
  },
  {
   "cell_type": "code",
   "execution_count": null,
   "metadata": {},
   "outputs": [],
   "source": []
  }
 ],
 "metadata": {
  "celltoolbar": "Slideshow",
  "kernelspec": {
   "display_name": "R",
   "language": "R",
   "name": "ir"
  },
  "language_info": {
   "codemirror_mode": "r",
   "file_extension": ".r",
   "mimetype": "text/x-r-source",
   "name": "R",
   "pygments_lexer": "r",
   "version": "3.6.0"
  }
 },
 "nbformat": 4,
 "nbformat_minor": 4
}

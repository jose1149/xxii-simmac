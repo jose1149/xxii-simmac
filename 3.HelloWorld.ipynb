{
 "cells": [
  {
   "cell_type": "markdown",
   "metadata": {},
   "source": [
    "## Hello World with SLURM"
   ]
  },
  {
   "cell_type": "markdown",
   "metadata": {},
   "source": [
    "### PyISlurm: Python Interface to Slurm https://pyslurm.github.io"
   ]
  },
  {
   "cell_type": "code",
   "execution_count": null,
   "metadata": {},
   "outputs": [],
   "source": [
    "# Load the \"magic\" commands from ipyslurm \n",
    "%load_ext ipyslurm"
   ]
  },
  {
   "cell_type": "code",
   "execution_count": null,
   "metadata": {},
   "outputs": [],
   "source": [
    "%slogin login-2"
   ]
  },
  {
   "cell_type": "code",
   "execution_count": null,
   "metadata": {},
   "outputs": [],
   "source": [
    "%%sbatch\n",
    "#!/usr/bin/env bash\n",
    "#SBATCH --job-name=Rmpi\n",
    "#SBATCH --nodes=1\n",
    "#SBATCH --time=00:05:00     \n",
    "#SBATCH --ntasks-per-node=48\n",
    "#SBATCH --cpus-per-task=1\n",
    "#SBATCH --output=rmpi-%j.log\n",
    "#SBATCH --partition=nu-wide\n",
    "\n",
    "cd $SLURM_SUBMIT_DIR\n",
    "\n",
    "module load mpich/3.2.1-gcc-7.2.0\n",
    "module load gcc/7.2.0\n",
    "module load R/3.5.1\n",
    "module list\n",
    "\n",
    "RFILE=\"test.R\"\n",
    "WORKERS=$(($SLURM_NTASKS-1))\n",
    "\n",
    "# Create R script\n",
    "cat > $RFILE << EOF\n",
    "# Load library\n",
    "library(Rmpi)\n",
    "\n",
    "# In case R exits unexpectedly, have it automatically clean up\n",
    "# resources taken up by Rmpi (slaves, memory, etc...)\n",
    ".Last <- function(){\n",
    "   if (is.loaded(\"mpi_initialize\")){\n",
    "     if (mpi.comm.size(1) > 0){\n",
    "       print(\"Please use mpi.close.Rslaves() to close workers.\")\n",
    "       mpi.close.Rslaves()\n",
    "     }\n",
    "     print(\"Please use mpi.quit() to quit R\")\n",
    "     .Call(\"mpi_finalize\")\n",
    "   }\n",
    "}\n",
    "\n",
    "# Spawn workers\n",
    "mpi.spawn.Rslaves(nslaves=$WORKERS)\n",
    "\n",
    "# Execute a command on each worker\n",
    "mpi.remote.exec(paste(\"I am\",mpi.comm.rank(),\"of\",mpi.comm.size()), ret=FALSE)\n",
    "mpi.close.Rslaves()\n",
    "mpi.quit()\n",
    "EOF\n",
    "\n",
    "echo \"Using $SLURM_JOB_NUM_NODES nodes\"\n",
    "mpirun -n 1 Rscript $RFILE # Only works with 1 worker (up to 64 CPUs)\n",
    "#mpiexec -n 24 Rscript $RFILE"
   ]
  },
  {
   "cell_type": "code",
   "execution_count": null,
   "metadata": {},
   "outputs": [],
   "source": [
    "%%sbash\n",
    "squeue -u $USER"
   ]
  },
  {
   "cell_type": "code",
   "execution_count": null,
   "metadata": {},
   "outputs": [],
   "source": []
  }
 ],
 "metadata": {
  "kernelspec": {
   "display_name": "Python 3",
   "language": "python",
   "name": "python3"
  },
  "language_info": {
   "codemirror_mode": {
    "name": "ipython",
    "version": 3
   },
   "file_extension": ".py",
   "mimetype": "text/x-python",
   "name": "python",
   "nbconvert_exporter": "python",
   "pygments_lexer": "ipython3",
   "version": "3.6.0"
  }
 },
 "nbformat": 4,
 "nbformat_minor": 4
}
